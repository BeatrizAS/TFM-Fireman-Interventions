{
 "cells": [
  {
   "cell_type": "markdown",
   "metadata": {},
   "source": [
    "# Abrimos el archivo .zip del csv principal"
   ]
  },
  {
   "cell_type": "code",
   "execution_count": null,
   "metadata": {},
   "outputs": [],
   "source": [
    "import zipfile\n",
    "\n",
    "zipfilename = \"Incidents_Responded_to_by_Fire_Companies.zip\"\n",
    "password = None\n",
    "\n",
    "# Extraemos todos los datos de ese archivo\n",
    "z = zipfile.ZipFile(zipfilename, \"r\")\n",
    "try:\n",
    "    z.extractall(pwd=password)\n",
    "except:\n",
    "    print('Error')\n",
    "    pass\n",
    "z.close()"
   ]
  },
  {
   "cell_type": "markdown",
   "metadata": {},
   "source": [
    "# Leemos el archivo .csv"
   ]
  },
  {
   "cell_type": "code",
   "execution_count": null,
   "metadata": {
    "scrolled": true
   },
   "outputs": [],
   "source": [
    "import pandas as pd\n",
    "import csv\n",
    "\n",
    "path = '../TFM-Fireman-Interventions/'\n",
    "file = 'Incidents_Responded_to_by_Fire_Companies.csv'\n",
    "\n",
    "df = pd.read_csv(path + file)"
   ]
  },
  {
   "cell_type": "code",
   "execution_count": null,
   "metadata": {},
   "outputs": [],
   "source": [
    "df.head()"
   ]
  },
  {
   "cell_type": "code",
   "execution_count": null,
   "metadata": {},
   "outputs": [],
   "source": [
    "df.shape"
   ]
  },
  {
   "cell_type": "code",
   "execution_count": null,
   "metadata": {},
   "outputs": [],
   "source": [
    "df.isnull().sum().sum()"
   ]
  },
  {
   "cell_type": "markdown",
   "metadata": {},
   "source": [
    "# Leemos el csv Fire_Boxes"
   ]
  },
  {
   "cell_type": "code",
   "execution_count": null,
   "metadata": {},
   "outputs": [],
   "source": [
    "path = '../TFM-Fireman-Interventions/'\n",
    "file = 'Fire_Boxes.csv'\n",
    "\n",
    "df1 = pd.read_csv(path + file, header=None)"
   ]
  },
  {
   "cell_type": "code",
   "execution_count": null,
   "metadata": {
    "scrolled": true
   },
   "outputs": [],
   "source": [
    "df1.head()"
   ]
  },
  {
   "cell_type": "markdown",
   "metadata": {},
   "source": [
    "# Cambiamos el nombre de las columnas de df1"
   ]
  },
  {
   "cell_type": "code",
   "execution_count": null,
   "metadata": {},
   "outputs": [],
   "source": [
    "df1.columns"
   ]
  },
  {
   "cell_type": "code",
   "execution_count": null,
   "metadata": {
    "scrolled": true
   },
   "outputs": [],
   "source": [
    "#cambiamos el tipo a string\n",
    "\n",
    "df1.columns.astype(str) "
   ]
  },
  {
   "cell_type": "code",
   "execution_count": null,
   "metadata": {},
   "outputs": [],
   "source": [
    "#modificamos el nombre de las columnas\n",
    "\n",
    "df1.columns = ['Long', 'Lat', 'FIRE_BOX', 'Adress'] "
   ]
  },
  {
   "cell_type": "code",
   "execution_count": null,
   "metadata": {},
   "outputs": [],
   "source": [
    "df1.columns"
   ]
  },
  {
   "cell_type": "code",
   "execution_count": null,
   "metadata": {
    "scrolled": true
   },
   "outputs": [],
   "source": [
    "df1.head()"
   ]
  },
  {
   "cell_type": "markdown",
   "metadata": {},
   "source": [
    "# Modificamos los dataframe para poder hacer .merge"
   ]
  },
  {
   "cell_type": "code",
   "execution_count": null,
   "metadata": {},
   "outputs": [],
   "source": [
    "#añado ceros en la columna Fire_box del df principal, para que sean números de 4 cifras\n",
    "\n",
    "df['FIRE_BOX'] = df['FIRE_BOX'].apply(lambda x: '{0:0>4}'.format(x))"
   ]
  },
  {
   "cell_type": "code",
   "execution_count": null,
   "metadata": {},
   "outputs": [],
   "source": [
    "df.head()"
   ]
  },
  {
   "cell_type": "code",
   "execution_count": null,
   "metadata": {},
   "outputs": [],
   "source": [
    "#funcion para eliminar las letras de la columna Borough_desc\n",
    "\n",
    "def remove(letter):\n",
    "    return \"\".join(x for x in letter if x.isdigit()) "
   ]
  },
  {
   "cell_type": "code",
   "execution_count": null,
   "metadata": {},
   "outputs": [],
   "source": [
    "#aplico la funcion remove sobre la columna Borough_desc\n",
    "\n",
    "df.BOROUGH_DESC = df.BOROUGH_DESC.map(remove) #aplico la funcion remove sobre la columna Borough_desc"
   ]
  },
  {
   "cell_type": "code",
   "execution_count": null,
   "metadata": {
    "scrolled": true
   },
   "outputs": [],
   "source": [
    "#por si han quedado espacios en blanco, los elimino\n",
    "\n",
    "df['BOROUGH_DESC'].str.replace(' ','') "
   ]
  },
  {
   "cell_type": "code",
   "execution_count": null,
   "metadata": {
    "scrolled": true
   },
   "outputs": [],
   "source": [
    "#cambio los numeros por letras\n",
    "\n",
    "var_letter = df[\"BOROUGH_DESC\"].astype(str)\n",
    "\n",
    "df[\"BOROUGH_DESC\"] = var_letter.replace({\"1\":\"M\", \"2\":\"X\", \"3\":\"R\", \"4\":\"B\", \"5\":\"Q\"}, regex=True)"
   ]
  },
  {
   "cell_type": "code",
   "execution_count": null,
   "metadata": {
    "scrolled": true
   },
   "outputs": [],
   "source": [
    "df[\"BOROUGH_DESC\"][1]"
   ]
  },
  {
   "cell_type": "code",
   "execution_count": null,
   "metadata": {},
   "outputs": [],
   "source": [
    "df.head()"
   ]
  },
  {
   "cell_type": "code",
   "execution_count": null,
   "metadata": {},
   "outputs": [],
   "source": [
    "#uno las dos columnas en una nueva\n",
    "\n",
    "df['FIRE_BOXX'] = df.apply(lambda row: row['BOROUGH_DESC'] + row['FIRE_BOX'], axis=1)"
   ]
  },
  {
   "cell_type": "code",
   "execution_count": null,
   "metadata": {},
   "outputs": [],
   "source": [
    "df.head()"
   ]
  },
  {
   "cell_type": "code",
   "execution_count": null,
   "metadata": {},
   "outputs": [],
   "source": [
    "#modifico el nombre de las columnas del df1\n",
    "\n",
    "df1.columns = ['Long', 'Lat', 'FIRE_BOXX', 'Adress'] "
   ]
  },
  {
   "cell_type": "code",
   "execution_count": null,
   "metadata": {},
   "outputs": [],
   "source": [
    "df1.head()"
   ]
  },
  {
   "cell_type": "markdown",
   "metadata": {},
   "source": [
    "# Juntamos el df con df1 por la columna FIRE_BOXX"
   ]
  },
  {
   "cell_type": "code",
   "execution_count": null,
   "metadata": {},
   "outputs": [],
   "source": [
    "df2 = pd.merge(df, df1) "
   ]
  },
  {
   "cell_type": "code",
   "execution_count": null,
   "metadata": {},
   "outputs": [],
   "source": [
    "df2.head()"
   ]
  },
  {
   "cell_type": "code",
   "execution_count": null,
   "metadata": {},
   "outputs": [],
   "source": [
    "df2.shape"
   ]
  },
  {
   "cell_type": "markdown",
   "metadata": {},
   "source": [
    "# Eliminamos columnas que no necesitamos"
   ]
  },
  {
   "cell_type": "code",
   "execution_count": null,
   "metadata": {},
   "outputs": [],
   "source": [
    "df2 = df2.drop(['FIRE_ORIGIN_BELOW_GRADE_FLAG', \n",
    "               'STORY_FIRE_ORIGIN_COUNT', \n",
    "               'FIRE_SPREAD_DESC', \n",
    "               'DETECTOR_PRESENCE_DESC', \n",
    "               'AES_PRESENCE_DESC', \n",
    "               'STANDPIPE_SYS_PRESENT_FLAG', \n",
    "               'FLOOR', \n",
    "                'ACTION_TAKEN2_DESC', \n",
    "                'ACTION_TAKEN3_DESC'], axis=1)\n"
   ]
  },
  {
   "cell_type": "code",
   "execution_count": null,
   "metadata": {},
   "outputs": [],
   "source": [
    "df2.head()"
   ]
  },
  {
   "cell_type": "code",
   "execution_count": null,
   "metadata": {},
   "outputs": [],
   "source": [
    "df2.shape"
   ]
  }
 ],
 "metadata": {
  "kernelspec": {
   "display_name": "Python 3",
   "language": "python",
   "name": "python3"
  },
  "language_info": {
   "codemirror_mode": {
    "name": "ipython",
    "version": 3
   },
   "file_extension": ".py",
   "mimetype": "text/x-python",
   "name": "python",
   "nbconvert_exporter": "python",
   "pygments_lexer": "ipython3",
   "version": "3.7.1"
  }
 },
 "nbformat": 4,
 "nbformat_minor": 2
}
